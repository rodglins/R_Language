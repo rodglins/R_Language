{
  "nbformat": 4,
  "nbformat_minor": 0,
  "metadata": {
    "colab": {
      "name": "DesafioCondicionaisQoda.ipynb",
      "provenance": []
    },
    "kernelspec": {
      "name": "ir",
      "display_name": "R"
    },
    "language_info": {
      "name": "R"
    }
  },
  "cells": [
    {
      "cell_type": "markdown",
      "metadata": {
        "id": "KdnO_-zI3LGc"
      },
      "source": [
        "# Desafio condicionais em R - QODA Data Science\n",
        "\n",
        "### Crie um chatbot simples que pergunte ao usuário sua idade\n",
        "\n",
        "\n",
        "\n",
        "*   Caso a idade esteja compreendida ente 18 anos ou menos, retorne, você é uma criança!\n",
        "*   Caso a idade esteja ente 19 e 50, retorne: você é um adulto!\n",
        "* Caso esteja entre 51 ou mais, retorne, você é um adulto experiente!"
      ]
    },
    {
      "cell_type": "code",
      "metadata": {
        "colab": {
          "base_uri": "https://localhost:8080/"
        },
        "id": "3JuSbL6913I9",
        "outputId": "90d3c4cb-2bb7-4a6c-ad23-340fdd65f9e4"
      },
      "source": [
        "idade <- as.integer(readline('Digite sua idade: '))\n",
        "\n",
        "if (idade<=18) {\n",
        "  print('Você é uma criança')\n",
        "} \n",
        "if (idade>=19 && idade<=50) {\n",
        "  print('Você é um adulto')\n",
        "} \n",
        "if (idade>51) {\n",
        "  print('Você é um adulto experiente')\n",
        "}"
      ],
      "execution_count": 6,
      "outputs": [
        {
          "output_type": "stream",
          "name": "stdout",
          "text": [
            "Digite sua idade: 20\n",
            "[1] \"Você é um adulto\"\n"
          ]
        }
      ]
    }
  ]
}