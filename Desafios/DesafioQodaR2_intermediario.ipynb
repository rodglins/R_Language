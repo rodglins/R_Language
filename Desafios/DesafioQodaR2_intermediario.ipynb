{
  "nbformat": 4,
  "nbformat_minor": 0,
  "metadata": {
    "colab": {
      "name": "DesafioQodaR2_intermediario.ipynb",
      "provenance": [],
      "collapsed_sections": []
    },
    "kernelspec": {
      "name": "ir",
      "display_name": "R"
    }
  },
  "cells": [
    {
      "cell_type": "markdown",
      "metadata": {
        "id": "Z2Kl9pfj0JKM"
      },
      "source": [
        "# Desafio QODA em R\n",
        "\n",
        "### Fase 2 - Intermediário\n",
        "\n",
        "* Elaborado por Qoda Data Science\n",
        "* Respondido por: Rodrigo da Costa Aglinskas"
      ]
    },
    {
      "cell_type": "markdown",
      "metadata": {
        "id": "j9ZuOU7Kyh9O"
      },
      "source": [
        "Crie um algoritmo em R que peça uma nota, entre 0 e 100. Mostre uma mensagem caso o valor seja inválido e continue pedindo até que o usuário informe um valor válido."
      ]
    },
    {
      "cell_type": "code",
      "metadata": {
        "id": "tlFupLd-ydTB",
        "colab": {
          "base_uri": "https://localhost:8080/"
        },
        "outputId": "b31dead2-0d52-486f-cbeb-c1033e017c41"
      },
      "source": [
        "print('########DIGITE O VALOR ENTRE 0 E 100########')\n",
        "\n",
        "readinteger <- function(){\n",
        "  n <- readline(prompt=\"Por favor, digite um valor entre 0 e 100: \") \n",
        "}\n",
        "\n",
        "repeat {   \n",
        "  response <- as.integer(readinteger());\n",
        "  if (response <= 100) {\n",
        "    print('Parabéns, valor correto');\n",
        "    break\n",
        "  } else print('valor incorreto tente novamente');\n",
        "}"
      ],
      "execution_count": null,
      "outputs": [
        {
          "output_type": "stream",
          "name": "stdout",
          "text": [
            "[1] \"########DIGITE O VALOR ENTRE 0 E 100########\"\n",
            "Por favor, digite um valor entre 0 e 100: 50\n",
            "[1] \"Parabéns, valor correto\"\n"
          ]
        }
      ]
    },
    {
      "cell_type": "markdown",
      "metadata": {
        "id": "yhw2owA-zbrn"
      },
      "source": [
        "Crie um algoritmo em R que leia um nome de usuário e a sua senha e não aceite a senha igual ao nome do usuário, mostrando uma mensagem de erro e voltando a pedir as informações.<br>"
      ]
    },
    {
      "cell_type": "code",
      "metadata": {
        "id": "RJJtXkvV0qzj",
        "colab": {
          "base_uri": "https://localhost:8080/"
        },
        "outputId": "7af26c5f-0e0f-409f-87fc-772ba9ef3894"
      },
      "source": [
        "readstring <- function(){\n",
        "  n <- readline(prompt=\"usuario: \")\n",
        "}\n",
        "readstring2 <- function(){\n",
        "  n2 <- readline(prompt=\"senha: \")\n",
        "}\n",
        "\n",
        "usuario <- readstring()\n",
        "senha <- readstring2()\n",
        "\n",
        "while (usuario==senha) {   \n",
        "  print(\"Erro: Senha idêntica ao usuário. Tente novamente.\");\n",
        "  usuario <- readstring();\n",
        "  senha <- readstring2();\n",
        "}"
      ],
      "execution_count": null,
      "outputs": [
        {
          "output_type": "stream",
          "name": "stdout",
          "text": [
            "usuario: rodrigo\n",
            "senha: rodrigo\n",
            "usuario: rodglins\n",
            "senha: rodrigo\n",
            "[1] \"Erro: Senha idêntica ao usuário. Tente novamente.\"\n"
          ]
        }
      ]
    },
    {
      "cell_type": "markdown",
      "metadata": {
        "id": "35RwPIIF0w3i"
      },
      "source": [
        "Crie um algoritmo em R que leia e valide as seguintes informações:\n",
        "* Nome: maior que 3 caracteres;\n",
        "* Idade: entre 0 e 150;\n",
        "* Salário: maior que zero;\n",
        "* Sexo: 'f' ou 'm';\n",
        "* Estado Civil: 's', 'c', 'v', 'd';"
      ]
    },
    {
      "cell_type": "code",
      "metadata": {
        "id": "UldyVjCg9r9i"
      },
      "source": [
        "library(tidyverse)"
      ],
      "execution_count": null,
      "outputs": []
    },
    {
      "cell_type": "code",
      "metadata": {
        "id": "NEFu-8L808HB",
        "colab": {
          "base_uri": "https://localhost:8080/"
        },
        "outputId": "d79a8a0e-2edc-410d-f8b4-1712089e8164"
      },
      "source": [
        "nome <- function(){\n",
        "  nome <- readline(prompt=\"nome: \")\n",
        "  nomeNumero = str_length(nome)\n",
        "  while (nomeNumero <= 3) {  \n",
        "    print(\"Erro: Inserir nome com mais de três caracteres.\");\n",
        "    nome <- readline(prompt=\"nome: \")  \n",
        "} \n",
        "}\n",
        "\n",
        "idade <- function(){\n",
        "  ida <- as.integer(readline(prompt=\"idade: \"))\n",
        "  while (ida >= 150) {   \n",
        "    print(\"Erro: Inserir nome com mais de três caracteres.\");\n",
        "    ida <- readline(prompt=\"idade: \")\n",
        "}\n",
        "}\n",
        "salario <- function(){\n",
        "  sal <- readline(prompt=\"salario: \")\n",
        "  while (sal <= 0) {  \n",
        "    print(\"Erro: Inserir salário maior que zero.\");\n",
        "    sal <- readline(prompt=\"salario: \")\n",
        "}\n",
        "}\n",
        "sexo <- function(){\n",
        "  sex <- readline(prompt=\"sexo: \")\n",
        "  sexLis <- 'fm'\n",
        "  while (sex %in% sexLis) { \n",
        "    print(\"Erro: Inserir sexo como f ou m\");\n",
        "    sex <- readline(prompt=\"sexo: \")\n",
        "}\n",
        "}\n",
        "estadoCivil <- function(){\n",
        "  est <- readline(prompt=\"Estado Civil: \")\n",
        "  estLis <- 'scvd'\n",
        "  while (est %in% estLis) {  \n",
        "    print(\"Erro: Inserir 's', 'c', 'v', 'd'\");\n",
        "    est <- readline(prompt=\"Estado Civil: \")\n",
        "}\n",
        "}\n",
        "nome()\n",
        "idade()\n",
        "salario()\n",
        "sexo()\n",
        "estadoCivil()"
      ],
      "execution_count": null,
      "outputs": [
        {
          "name": "stdout",
          "output_type": "stream",
          "text": [
            "nome: rodrigo\n",
            "idade: 15\n",
            "salario: 100\n",
            "sexo: m\n",
            "Estado Civil: s\n"
          ]
        }
      ]
    },
    {
      "cell_type": "markdown",
      "metadata": {
        "id": "_OGQmoYA08bI"
      },
      "source": [
        "Supondo que a população de um país A seja da ordem de 80000 habitantes com uma taxa anual de crescimento de 3% e que a população de B seja 200000 habitantes com uma taxa de crescimento de 1.5%.<br><br> Crie um algoritmo em R que calcule e escreva o número de anos necessários para que a população do país A ultrapasse ou iguale a população do país B, mantidas as taxas de crescimento."
      ]
    },
    {
      "cell_type": "code",
      "metadata": {
        "id": "xxgmQ5j21Abx",
        "colab": {
          "base_uri": "https://localhost:8080/"
        },
        "outputId": "5c9c0be6-4bf7-411a-a941-251d470b75b5"
      },
      "source": [
        "popA = 80000\n",
        "popB = 200000\n",
        "crescA = 3\n",
        "crescB = 1.5\n",
        "\n",
        "n=0\n",
        "while (popA <= popB){\n",
        "  popA = popA +((popA*3)/100)\n",
        "  popB = popB +((popB*1.5)/100)\n",
        "  n = n+1\n",
        "}\n",
        "\n",
        "print(n)"
      ],
      "execution_count": null,
      "outputs": [
        {
          "output_type": "stream",
          "name": "stdout",
          "text": [
            "[1] 63\n"
          ]
        }
      ]
    },
    {
      "cell_type": "markdown",
      "metadata": {
        "id": "kP9TOwKo1AnS"
      },
      "source": [
        "Desenvolva um gerador de tabuada, capaz de gerar a tabuada de qualquer número inteiro entre 1 a 10. O usuário deve informar de qual numero ele deseja ver a tabuada. A saída deve ser conforme o exemplo abaixo:\n",
        "Tabuada de 5:<br>\n",
        "5 X 1 = 5<br>\n",
        "5 X 2 = 10<br>\n",
        "...<br>\n",
        "5 X 10 = 50<br>"
      ]
    },
    {
      "cell_type": "code",
      "metadata": {
        "id": "Tj5xsjC-1D5I",
        "colab": {
          "base_uri": "https://localhost:8080/"
        },
        "outputId": "ee553ffe-205d-45f9-d8a6-3f0098450a56"
      },
      "source": [
        "print('##################### GERADOR DE TABUADA ######################')\n",
        "nume = readline(prompt=\"Digite um número entre 1 e 10 \")\n",
        "num = as.integer(nume)\n",
        "n = 0\n",
        "\n",
        "if (num > 0 & num <= 10){\n",
        "  while (n < 10){\n",
        "    n = n + 1\n",
        "    print(num*n)\n",
        "  }\n",
        "} else{\n",
        "  print('Número incorreto')\n",
        "}"
      ],
      "execution_count": null,
      "outputs": [
        {
          "output_type": "stream",
          "name": "stdout",
          "text": [
            "[1] \"##################### GERADOR DE TABUADA ######################\"\n",
            "Digite um número entre 1 e 10 5\n",
            "[1] 5\n",
            "[1] 10\n",
            "[1] 15\n",
            "[1] 20\n",
            "[1] 25\n",
            "[1] 30\n",
            "[1] 35\n",
            "[1] 40\n",
            "[1] 45\n",
            "[1] 50\n"
          ]
        }
      ]
    },
    {
      "cell_type": "markdown",
      "metadata": {
        "id": "6vgD9pl81EGd"
      },
      "source": [
        "Crie um algoritmo em R que leia três números e mostre o maior e o menor deles."
      ]
    },
    {
      "cell_type": "code",
      "metadata": {
        "id": "3h1VOEuR1KGz",
        "colab": {
          "base_uri": "https://localhost:8080/"
        },
        "outputId": "c59e327c-c7f7-43e6-ad5b-fbf526b76ec3"
      },
      "source": [
        "n=0\n",
        "# lista= c(readline(prompt=\"Digite um número:\"))\n",
        "while (n <=2){\n",
        "  n=n+1\n",
        "  lista = c(readline(prompt=\"Digite um número:\"))\n",
        "  # lista2 = as.integer(lista)\n",
        "  lista2 = append(lista2, lista, after = length(lista2))\n",
        "}\n",
        "\n",
        "print(min(lista2))\n",
        "print(max(lista2))"
      ],
      "execution_count": 40,
      "outputs": [
        {
          "output_type": "stream",
          "name": "stdout",
          "text": [
            "Digite um número:4\n",
            "Digite um número:6\n",
            "Digite um número:9\n",
            "[1] \"1\"\n",
            "[1] \"9\"\n"
          ]
        }
      ]
    },
    {
      "cell_type": "markdown",
      "metadata": {
        "id": "QXhvPnMQ1Kd6"
      },
      "source": [
        "Crie um algoritmo em R que peça 2 números, base e expoente, calcule e mostre o primeiro número elevado ao segundo número. Não utilize a função de potência da linguagem."
      ]
    },
    {
      "cell_type": "code",
      "metadata": {
        "id": "ywZkuhmt1N7l",
        "colab": {
          "base_uri": "https://localhost:8080/",
          "height": 71
        },
        "outputId": "03587d13-5283-416e-e80d-87fd66cdabcf"
      },
      "source": [
        "i=3\n",
        "base = c(readline(prompt=\"Insira o número da base: \"))\n",
        "expo = c(readline(prompt=\"Insira o número do exponencial: \"))\n",
        "base = as.integer(base)\n",
        "expo = as.integer(expo)\n",
        "calculo=base*base\n",
        "repeat{\n",
        "if (i<=expo){\n",
        "calculo=calculo*base\n",
        "i=i+1} else {break}\n",
        "}\n",
        "calculo"
      ],
      "execution_count": 39,
      "outputs": [
        {
          "name": "stdout",
          "output_type": "stream",
          "text": [
            "Insira o número da base: 5\n",
            "Insira o número do exponencial: 3\n"
          ]
        },
        {
          "output_type": "display_data",
          "data": {
            "text/plain": [
              "[1] 125"
            ],
            "text/latex": "125",
            "text/markdown": "125",
            "text/html": [
              "125"
            ]
          },
          "metadata": {}
        }
      ]
    },
    {
      "cell_type": "markdown",
      "metadata": {
        "id": "F-rpjggB1T5G"
      },
      "source": [
        "Crie um algoritmo em R que peça 10 números inteiros, calcule e mostre a quantidade de números pares e a quantidade de números impares."
      ]
    },
    {
      "cell_type": "code",
      "metadata": {
        "id": "nvMchfOZ2_vC",
        "colab": {
          "base_uri": "https://localhost:8080/",
          "height": 215
        },
        "outputId": "baad384e-416d-4f42-db78-c8b4faaf7d5b"
      },
      "source": [
        "i=1\n",
        "soma=0\n",
        "lista2 = as.integer()\n",
        "repeat{\n",
        "if (i<=10){\n",
        "lista = c(readline(prompt=\"Digite um número:\"))\n",
        "lista2 = append(lista2, lista, after = length(lista2))\n",
        "i=i+1} else {break}\n",
        "}\n",
        "\n",
        "par <- (1:length(lista2) %% 2) == 0 \n",
        "impar <- (1:length(lista2) %% 2) != 0 \n",
        "\n",
        "lista2[par]\n",
        "lista2[impar] "
      ],
      "execution_count": 24,
      "outputs": [
        {
          "name": "stdout",
          "output_type": "stream",
          "text": [
            "Digite um número:1\n",
            "Digite um número:2\n",
            "Digite um número:3\n",
            "Digite um número:4\n",
            "Digite um número:5\n",
            "Digite um número:6\n",
            "Digite um número:7\n",
            "Digite um número:8\n",
            "Digite um número:9\n"
          ]
        },
        {
          "output_type": "display_data",
          "data": {
            "text/plain": [
              "[1] \"2\" \"4\" \"6\" \"8\" \"9\""
            ],
            "text/latex": "\\begin{enumerate*}\n\\item '2'\n\\item '4'\n\\item '6'\n\\item '8'\n\\item '9'\n\\end{enumerate*}\n",
            "text/markdown": "1. '2'\n2. '4'\n3. '6'\n4. '8'\n5. '9'\n\n\n",
            "text/html": [
              "<style>\n",
              ".list-inline {list-style: none; margin:0; padding: 0}\n",
              ".list-inline>li {display: inline-block}\n",
              ".list-inline>li:not(:last-child)::after {content: \"\\00b7\"; padding: 0 .5ex}\n",
              "</style>\n",
              "<ol class=list-inline><li>'2'</li><li>'4'</li><li>'6'</li><li>'8'</li><li>'9'</li></ol>\n"
            ]
          },
          "metadata": {}
        },
        {
          "output_type": "display_data",
          "data": {
            "text/plain": [
              "[1] \"1\" \"3\" \"5\" \"7\" \"8\""
            ],
            "text/latex": "\\begin{enumerate*}\n\\item '1'\n\\item '3'\n\\item '5'\n\\item '7'\n\\item '8'\n\\end{enumerate*}\n",
            "text/markdown": "1. '1'\n2. '3'\n3. '5'\n4. '7'\n5. '8'\n\n\n",
            "text/html": [
              "<style>\n",
              ".list-inline {list-style: none; margin:0; padding: 0}\n",
              ".list-inline>li {display: inline-block}\n",
              ".list-inline>li:not(:last-child)::after {content: \"\\00b7\"; padding: 0 .5ex}\n",
              "</style>\n",
              "<ol class=list-inline><li>'1'</li><li>'3'</li><li>'5'</li><li>'7'</li><li>'8'</li></ol>\n"
            ]
          },
          "metadata": {}
        }
      ]
    },
    {
      "cell_type": "markdown",
      "metadata": {
        "id": "C-H4OWh03DFn"
      },
      "source": [
        "Um funcionário de uma empresa recebe aumento salarial anualmente: Sabe-se que: Esse funcionário foi contratado em 1995, com salário inicial de R$ 1.000,00; Em 1996 recebeu aumento de 1,5% sobre seu salário inicial; A partir de 1997 (inclusive), os aumentos salariais sempre correspondem ao dobro do percentual do ano anterior. Crie um algoritmo em R que determine o salário atual desse funcionário. Após concluir isto, altere o programa permitindo que o usuário digite o salário inicial do funcionário"
      ]
    },
    {
      "cell_type": "code",
      "metadata": {
        "id": "vs5qFAKx3Eyi",
        "colab": {
          "base_uri": "https://localhost:8080/",
          "height": 52
        },
        "outputId": "330b1fdf-1d6d-4dde-fe6e-fd6561dcd347"
      },
      "source": [
        "#desde 1995\n",
        "#inicial 1000\n",
        "# 1996 +x=1,5% \n",
        "#1997 + x=x*2\n",
        "\n",
        "i = as.integer(1997)\n",
        "anoAtual = as.integer(format(Sys.Date(), \"%Y\"))\n",
        "\n",
        "salario = as.double(1000)\n",
        "porcentagem = 1.5\n",
        "aumento = (salario * porcentagem)/100\n",
        "salario = salario + aumento\n",
        "\n",
        "repeat{\n",
        "if (i<=anoAtual){\n",
        "porcentagem = porcentagem * 2\n",
        "aumento = (salario * porcentagem)/100 \n",
        "salario = salario + aumento\n",
        "\n",
        "i=i+1} else {break}\n",
        "}\n",
        "\n",
        "salario"
      ],
      "execution_count": 45,
      "outputs": [
        {
          "output_type": "display_data",
          "data": {
            "text/plain": [
              "[1] 2021"
            ],
            "text/latex": "2021",
            "text/markdown": "2021",
            "text/html": [
              "2021"
            ]
          },
          "metadata": {}
        },
        {
          "output_type": "display_data",
          "data": {
            "text/plain": [
              "[1] 7.93849e+60"
            ],
            "text/latex": "7.93848960180533e+60",
            "text/markdown": "7.93848960180533e+60",
            "text/html": [
              "7.93848960180533e+60"
            ]
          },
          "metadata": {}
        }
      ]
    },
    {
      "cell_type": "markdown",
      "metadata": {
        "id": "PGccudSo3E54"
      },
      "source": [
        "Crie um algoritmo em R com uma função que necessite de um argumento. A função retorna o valor de caractere ‘P’, se seu argumento for positivo, e ‘N’, se seu argumento for zero ou negativo."
      ]
    },
    {
      "cell_type": "code",
      "metadata": {
        "id": "_zfLyopV3IqV",
        "colab": {
          "base_uri": "https://localhost:8080/"
        },
        "outputId": "f4cf6165-7aac-4add-e6b4-e81fb48a8122"
      },
      "source": [
        "num = c(readline(prompt=\"Digite um número inteiro: \"))\n",
        "num = as.integer(num)\n",
        "\n",
        "if (num <= 0){\n",
        "  print('P')\n",
        "} else{\n",
        "  print('N')\n",
        "}"
      ],
      "execution_count": 52,
      "outputs": [
        {
          "output_type": "stream",
          "name": "stdout",
          "text": [
            "Digite um número inteiro: 1\n",
            "[1] \"N\"\n"
          ]
        }
      ]
    },
    {
      "cell_type": "markdown",
      "metadata": {
        "id": "bu3Zyati3Iwc"
      },
      "source": [
        "Construa uma função que receba uma data no formato DD/MM/AAAA e devolva uma string no formato D de mesPorExtenso de AAAA. Opcionalmente, valide a data e retorne NULL caso a data seja inválida."
      ]
    },
    {
      "cell_type": "code",
      "metadata": {
        "id": "Peo4D5Sz3PDC",
        "colab": {
          "base_uri": "https://localhost:8080/",
          "height": 141
        },
        "outputId": "606f4e12-24bf-4775-abc2-fb41fa5bb242"
      },
      "source": [
        "library(lubridate)\n",
        "data = dmy(readline(prompt=\"Digite a data no formato DD/MM/AAAA: \"))\n",
        "\n",
        "excessoes <- data.frame(\n",
        "  num = 11:19,\n",
        "  nome = c(\"onze\", \"doze\", \"treze\", \"catorze\", \"quinze\", \"dezesseis\", \"dezessete\", \"dezoito\", \"dezenove\"),\n",
        "  stringsAsFactors = F\n",
        ")\n",
        "\n",
        "unidades <- data.frame(\n",
        "  num = 1:9,\n",
        "  nome = c(\"um\", \"dois\", \"três\", \"quatro\", \"cinco\", \"seis\", \"sete\", \"oito\", \"nove\"),\n",
        "  stringsAsFactors = F\n",
        ")  \n",
        "\n",
        "dezenas <- data.frame(\n",
        "  num = 1:9,\n",
        "  nome = c(\"dez\", \"vinte\", \"trinta\", \"quarenta\", \"cinquenta\", \"sessenta\", \"setenta\", \"oitenta\", \"noventa\"),\n",
        "  stringsAsFactors = F\n",
        ")\n",
        "\n",
        "library(stringr)\n",
        "escrever_numero <- function(x){\n",
        "\n",
        "  tamanho <- str_length(x)\n",
        "  num_vetor <- unlist(str_split(x, \"\"))\n",
        "\n",
        "  if(x %in% excessoes$num){\n",
        "    return(excessoes$nome[excessoes$num == x])\n",
        "  } else {\n",
        "    unidade <- num_vetor[tamanho]\n",
        "    unidade <- unidades$nome[unidades$num == unidade]\n",
        "    if(tamanho > 1){\n",
        "      dezena <- num_vetor[tamanho -1]\n",
        "      dezena <- dezenas$nome[dezenas$num == dezena]\n",
        "    }\n",
        "  }\n",
        "\n",
        "  if(length(unidade) == 0){\n",
        "    return(dezena)\n",
        "  } else if (tamanho > 1){\n",
        "    return(paste(dezena, \"e\", unidade))\n",
        "  } else{\n",
        "    paste(unidade)\n",
        "  }\n",
        "\n",
        "}\n",
        "\n",
        "\n",
        "escrever_numero(day(data))\n",
        "wday(data, label = TRUE)\n",
        "month(data, label = TRUE)\n",
        "escrever_numero(year(data))\n",
        "\n",
        "\n",
        "\n"
      ],
      "execution_count": 75,
      "outputs": [
        {
          "name": "stdout",
          "output_type": "stream",
          "text": [
            "Digite a data no formato DD/MM/AAAA: 15/10/1983\n"
          ]
        },
        {
          "output_type": "display_data",
          "data": {
            "text/plain": [
              "[1] \"quinze\""
            ],
            "text/latex": "'quinze'",
            "text/markdown": "'quinze'",
            "text/html": [
              "'quinze'"
            ]
          },
          "metadata": {}
        },
        {
          "output_type": "display_data",
          "data": {
            "text/plain": [
              "[1] Sat\n",
              "Levels: Sun < Mon < Tue < Wed < Thu < Fri < Sat"
            ],
            "text/latex": "Sat\n\\emph{Levels}: \\begin{enumerate*}\n\\item 'Sun'\n\\item 'Mon'\n\\item 'Tue'\n\\item 'Wed'\n\\item 'Thu'\n\\item 'Fri'\n\\item 'Sat'\n\\end{enumerate*}\n",
            "text/markdown": "Sat\n**Levels**: 1. 'Sun'\n2. 'Mon'\n3. 'Tue'\n4. 'Wed'\n5. 'Thu'\n6. 'Fri'\n7. 'Sat'\n\n\n",
            "text/html": [
              "Sat\n",
              "<details>\n",
              "\t<summary style=display:list-item;cursor:pointer>\n",
              "\t\t<strong>Levels</strong>:\n",
              "\t</summary>\n",
              "\t<style>\n",
              "\t.list-inline {list-style: none; margin:0; padding: 0}\n",
              "\t.list-inline>li {display: inline-block}\n",
              "\t.list-inline>li:not(:last-child)::after {content: \"\\00b7\"; padding: 0 .5ex}\n",
              "\t</style>\n",
              "\t<ol class=list-inline><li>'Sun'</li><li>'Mon'</li><li>'Tue'</li><li>'Wed'</li><li>'Thu'</li><li>'Fri'</li><li>'Sat'</li></ol>\n",
              "</details>"
            ]
          },
          "metadata": {}
        },
        {
          "output_type": "display_data",
          "data": {
            "text/plain": [
              "[1] Oct\n",
              "12 Levels: Jan < Feb < Mar < Apr < May < Jun < Jul < Aug < Sep < ... < Dec"
            ],
            "text/latex": "Oct\n\\emph{Levels}: \\begin{enumerate*}\n\\item 'Jan'\n\\item 'Feb'\n\\item 'Mar'\n\\item 'Apr'\n\\item 'May'\n\\item 'Jun'\n\\item 'Jul'\n\\item 'Aug'\n\\item 'Sep'\n\\item 'Oct'\n\\item 'Nov'\n\\item 'Dec'\n\\end{enumerate*}\n",
            "text/markdown": "Oct\n**Levels**: 1. 'Jan'\n2. 'Feb'\n3. 'Mar'\n4. 'Apr'\n5. 'May'\n6. 'Jun'\n7. 'Jul'\n8. 'Aug'\n9. 'Sep'\n10. 'Oct'\n11. 'Nov'\n12. 'Dec'\n\n\n",
            "text/html": [
              "Oct\n",
              "<details>\n",
              "\t<summary style=display:list-item;cursor:pointer>\n",
              "\t\t<strong>Levels</strong>:\n",
              "\t</summary>\n",
              "\t<style>\n",
              "\t.list-inline {list-style: none; margin:0; padding: 0}\n",
              "\t.list-inline>li {display: inline-block}\n",
              "\t.list-inline>li:not(:last-child)::after {content: \"\\00b7\"; padding: 0 .5ex}\n",
              "\t</style>\n",
              "\t<ol class=list-inline><li>'Jan'</li><li>'Feb'</li><li>'Mar'</li><li>'Apr'</li><li>'May'</li><li>'Jun'</li><li>'Jul'</li><li>'Aug'</li><li>'Sep'</li><li>'Oct'</li><li>'Nov'</li><li>'Dec'</li></ol>\n",
              "</details>"
            ]
          },
          "metadata": {}
        },
        {
          "output_type": "display_data",
          "data": {
            "text/plain": [
              "[1] \"oitenta e três\""
            ],
            "text/latex": "'oitenta e três'",
            "text/markdown": "'oitenta e três'",
            "text/html": [
              "'oitenta e três'"
            ]
          },
          "metadata": {}
        }
      ]
    }
  ]
}