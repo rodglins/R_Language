{
  "nbformat": 4,
  "nbformat_minor": 0,
  "metadata": {
    "colab": {
      "name": "DesafioQodaR1_facil.ipynb",
      "provenance": []
    },
    "kernelspec": {
      "name": "ir",
      "display_name": "R"
    }
  },
  "cells": [
    {
      "cell_type": "markdown",
      "metadata": {
        "id": "Z2Kl9pfj0JKM"
      },
      "source": [
        "># **Desafio Qoda - Fácil**\n",
        "\n",
        "## **Questionário elaborado por Qoda**\n",
        "\n",
        "*   Respostas: Rodrigo da Costa Aglinskas\n",
        "*   Data: 16/10/2021\n",
        "\n",
        "\n"
      ]
    },
    {
      "cell_type": "markdown",
      "metadata": {
        "id": "j9ZuOU7Kyh9O"
      },
      "source": [
        "Crie um algoritmo em R que mostre a mensagem \"Alo mundo\" na tela."
      ]
    },
    {
      "cell_type": "code",
      "metadata": {
        "id": "tlFupLd-ydTB",
        "colab": {
          "base_uri": "https://localhost:8080/"
        },
        "outputId": "400e653d-7d2b-4521-d25a-5528034d3c3b"
      },
      "source": [
        "x <- \"Hello World!\"\n",
        "print(x)"
      ],
      "execution_count": 4,
      "outputs": [
        {
          "output_type": "stream",
          "name": "stdout",
          "text": [
            "[1] \"Hello World!\"\n"
          ]
        }
      ]
    },
    {
      "cell_type": "markdown",
      "metadata": {
        "id": "yhw2owA-zbrn"
      },
      "source": [
        "Crie um algoritmo em R que peça dois números e imprima a soma."
      ]
    },
    {
      "cell_type": "code",
      "metadata": {
        "id": "RJJtXkvV0qzj",
        "colab": {
          "base_uri": "https://localhost:8080/"
        },
        "outputId": "02348eb8-323b-4c7e-efad-ff467aad1011"
      },
      "source": [
        "soma.num1 <- readline(prompt=\"Digite um número para somar: \")\n",
        "soma.num2 <- readline(prompt=\"Digite outro número para somar: \")\n",
        "soma.num1 <- as.integer(soma.num1)\n",
        "soma.num2 <- as.integer(soma.num2)\n",
        "print(sum(soma.num1, soma.num2))"
      ],
      "execution_count": 23,
      "outputs": [
        {
          "output_type": "stream",
          "name": "stdout",
          "text": [
            "Digite um número para somar: 5\n",
            "Digite outro número para somar: 4\n",
            "[1] 9\n"
          ]
        }
      ]
    },
    {
      "cell_type": "markdown",
      "metadata": {
        "id": "35RwPIIF0w3i"
      },
      "source": [
        "Crie um algoritmo em R que peça um número e então mostre a mensagem O número informado foi [número]."
      ]
    },
    {
      "cell_type": "code",
      "metadata": {
        "id": "NEFu-8L808HB",
        "colab": {
          "base_uri": "https://localhost:8080/"
        },
        "outputId": "82666f3d-feac-4d80-f75e-3b7b9b54ed81"
      },
      "source": [
        "df.num <- readline(prompt=\"Digite um nr: \")\n",
        "df.num <- as.integer(df.num)\n",
        "print(paste(\"O número digitado foi: \", df.num))"
      ],
      "execution_count": 7,
      "outputs": [
        {
          "output_type": "stream",
          "name": "stdout",
          "text": [
            "Digite um nr: 55\n",
            "[1] \"O número digitado foi:  55\"\n"
          ]
        }
      ]
    },
    {
      "cell_type": "markdown",
      "metadata": {
        "id": "_OGQmoYA08bI"
      },
      "source": [
        "Crie um algoritmo em R que converta metros para centímetros."
      ]
    },
    {
      "cell_type": "code",
      "metadata": {
        "id": "xxgmQ5j21Abx",
        "colab": {
          "base_uri": "https://localhost:8080/"
        },
        "outputId": "30350941-43d4-445a-845f-978bf4626b86"
      },
      "source": [
        "metros <- readline(prompt=\"Digite um tamanho em metros para conversão em cm: \")\n",
        "metros <- as.integer(metros)\n",
        "cm <- metros * 100\n",
        "print(paste('O tamanho convertido é',cm,'cm.'))"
      ],
      "execution_count": 6,
      "outputs": [
        {
          "output_type": "stream",
          "name": "stdout",
          "text": [
            "Digite um tamanho em metros para conversão em cm: 5\n",
            "[1] \"O tamanho convertido é 500 cm.\"\n"
          ]
        }
      ]
    },
    {
      "cell_type": "markdown",
      "metadata": {
        "id": "kP9TOwKo1AnS"
      },
      "source": [
        "Crie um algoritmo em R que peça as 4 notas bimestrais e mostre a média."
      ]
    },
    {
      "cell_type": "code",
      "metadata": {
        "id": "Tj5xsjC-1D5I",
        "colab": {
          "base_uri": "https://localhost:8080/"
        },
        "outputId": "e1493419-653b-424b-b0b8-8361febe082d"
      },
      "source": [
        "nota1 <- readline(prompt=\"Digite a nota do 1º bimestre: \")\n",
        "nota42 <- readline(prompt=\"Digite a nota do 2º bimestre: \")\n",
        "nota3 <- readline(prompt=\"Digite a nota do 3º bimestre: \")\n",
        "nota4 <- readline(prompt=\"Digite a nota do 4º bimestre: \")\n",
        "nota1 <- as.double(nota1)\n",
        "nota2 <- as.double(nota2)\n",
        "nota3 <- as.double(nota3)\n",
        "nota4 <- as.double(nota4)\n",
        "media <- (nota1 + nota2 + nota3 + nota4)/4\n",
        "print(paste('A média é',media))"
      ],
      "execution_count": 14,
      "outputs": [
        {
          "output_type": "stream",
          "name": "stdout",
          "text": [
            "Digite a nota do 1º bimestre: 3\n",
            "Digite a nota do 2º bimestre: 9\n",
            "Digite a nota do 3º bimestre: 9\n",
            "Digite a nota do 4º bimestre: 4\n",
            "[1] \"A média é 4.5\"\n"
          ]
        }
      ]
    },
    {
      "cell_type": "markdown",
      "metadata": {
        "id": "6vgD9pl81EGd"
      },
      "source": [
        "Crie um algoritmo em R que peça o raio de um círculo, calcule e mostre sua área."
      ]
    },
    {
      "cell_type": "code",
      "metadata": {
        "id": "3h1VOEuR1KGz",
        "colab": {
          "base_uri": "https://localhost:8080/"
        },
        "outputId": "46ca59f2-8e43-469d-c979-77d81f934929"
      },
      "source": [
        "raio <- readline(prompt=\"Digite o raio do círculo: \")\n",
        "raio <- as.double(raio)\n",
        "area <- pi*(raio^2)\n",
        "diametro <- raio * 2\n",
        "\n",
        "print(paste('A área é',format(round(area, 2), nsmall = 2), 'e o diâmetro é',diametro))"
      ],
      "execution_count": 19,
      "outputs": [
        {
          "output_type": "stream",
          "name": "stdout",
          "text": [
            "Digite o raio do círculo: 5\n",
            "[1] \"A área é 78.54 e o diâmetro é 10\"\n"
          ]
        }
      ]
    },
    {
      "cell_type": "markdown",
      "metadata": {
        "id": "QXhvPnMQ1Kd6"
      },
      "source": [
        "Crie um algoritmo em R que calcule a área de um quadrado, em seguida mostre o dobro desta área para o usuário."
      ]
    },
    {
      "cell_type": "code",
      "metadata": {
        "id": "ywZkuhmt1N7l",
        "colab": {
          "base_uri": "https://localhost:8080/"
        },
        "outputId": "eb018878-af5a-4cd0-e85e-943d904a38a3"
      },
      "source": [
        "base <- readline(prompt=\"Digite a base do quadrado: \")\n",
        "altura <- readline(prompt=\"Digite a altura do quadrado: \")\n",
        "base <- as.double(base)\n",
        "altura <- as.double(altura)\n",
        "areaQ <- base * altura\n",
        "\n",
        "print(paste('A área do quadrado é: ',format(round(areaQ, 2), nsmall = 2)))"
      ],
      "execution_count": 22,
      "outputs": [
        {
          "output_type": "stream",
          "name": "stdout",
          "text": [
            "Digite a base do quadrado: 35\n",
            "Digite a altura do quadrado: 12\n",
            "[1] \"A área do quadrado é:  420.00\"\n"
          ]
        }
      ]
    },
    {
      "cell_type": "markdown",
      "metadata": {
        "id": "F-rpjggB1T5G"
      },
      "source": [
        "Crie um algoritmo em R que pergunte quanto você ganha por hora e o número de horas trabalhadas no mês. Calcule e mostre o total do seu salário no referido mês.\n"
      ]
    },
    {
      "cell_type": "code",
      "metadata": {
        "colab": {
          "base_uri": "https://localhost:8080/"
        },
        "id": "eAwsG0qcctbO",
        "outputId": "d2abb4f3-dfec-411d-fe23-dc9d867b4d38"
      },
      "source": [
        "salarioHora <- readline(prompt = 'Digite o valor da hora trabalhada: ')\n",
        "horas <- readline(prompt = 'Digite a quantidade de horas trabalhadas: ')\n",
        "salarioHora <- as.double(salarioHora)\n",
        "horas <- as.double(horas)\n",
        "salarioMes <- salarioHora * horas\n",
        "\n",
        "print(paste('O salário a receber será de R$ :',salarioMes))"
      ],
      "execution_count": 25,
      "outputs": [
        {
          "output_type": "stream",
          "name": "stdout",
          "text": [
            "Digite o valor da hora trabalhada: 35\n",
            "Digite a quantidade de horas trabalhadas: 720\n",
            "[1] \"O salário a receber será de R$ : 25200\"\n"
          ]
        }
      ]
    },
    {
      "cell_type": "markdown",
      "metadata": {
        "id": "C-H4OWh03DFn"
      },
      "source": [
        "Crie um algoritmo em R que peça a temperatura em graus Farenheit, transforme e mostre a temperatura em graus Celsius.\n",
        "C = (5 * (F-32) / 9)."
      ]
    },
    {
      "cell_type": "code",
      "metadata": {
        "id": "vs5qFAKx3Eyi",
        "colab": {
          "base_uri": "https://localhost:8080/"
        },
        "outputId": "72c7acbb-d6f5-47a9-d583-e8a75c262f0d"
      },
      "source": [
        "print('########Conversor Farenheit para Celsius em R ########')\n",
        "far <- readline(prompt = 'Digite a temperatura em Farenheit: ')\n",
        "far <- as.double(far)\n",
        "celsius <- (5*(far-32)/9)\n",
        "print(paste('A temperatura em Celsius é: ',celsius, 'ºC'))"
      ],
      "execution_count": 28,
      "outputs": [
        {
          "output_type": "stream",
          "name": "stdout",
          "text": [
            "[1] \"########Conversor Farenheit para Celsius em R ########\"\n",
            "Digite a temperatura em Farenheit: 89.6\n",
            "[1] \"A temperatura em Celsius é:  32 ºC\"\n"
          ]
        }
      ]
    },
    {
      "cell_type": "markdown",
      "metadata": {
        "id": "PGccudSo3E54"
      },
      "source": [
        "Crie um algoritmo em R que peça a temperatura em graus Celsius, transforme e mostre em graus Farenheit."
      ]
    },
    {
      "cell_type": "code",
      "metadata": {
        "id": "_zfLyopV3IqV",
        "colab": {
          "base_uri": "https://localhost:8080/"
        },
        "outputId": "944ac8e4-1880-4d01-a26f-7f6f705afa9c"
      },
      "source": [
        "print('########Conversor Celsius para Farenheit########')\n",
        "cel <- readline(prompt = 'Digite a temperatura em Celsius: ')\n",
        "cel <- as.double(cel)\n",
        "farenheit <- (cel * 9/5) + 32\n",
        "print(paste('A temperatura em Farenheit é: ',farenheit, 'ºC'))"
      ],
      "execution_count": 29,
      "outputs": [
        {
          "output_type": "stream",
          "name": "stdout",
          "text": [
            "[1] \"########Conversor Celsius para Farenheit########\"\n",
            "Digite a temperatura em Celsius: 32\n",
            "[1] \"A temperatura em Farenheit é:  89.6 ºC\"\n"
          ]
        }
      ]
    },
    {
      "cell_type": "markdown",
      "metadata": {
        "id": "bu3Zyati3Iwc"
      },
      "source": [
        "Crie um algoritmo em R que peça 2 números inteiros e um número real. Calcule e mostre:\n",
        "* a soma do dobro do primeiro com metade do segundo .\n",
        "* a soma do triplo do primeiro com o terceiro.\n",
        "* o terceiro elevado ao cubo."
      ]
    },
    {
      "cell_type": "code",
      "metadata": {
        "id": "Peo4D5Sz3PDC",
        "colab": {
          "base_uri": "https://localhost:8080/"
        },
        "outputId": "c9c61724-37ef-4cf6-baf9-ff05b4065579"
      },
      "source": [
        "int1 <- readline(prompt = 'Digite um número inteiro: ')\n",
        "int2 <- readline(prompt= 'Digite outro número inteiro: ')\n",
        "real <- readline(prompt = 'Digite um número real: ')\n",
        "int1 <- as.integer(int1)\n",
        "int2 <- as.integer(int2)\n",
        "real <- as.double(real)\n",
        "soma1 <- (int1*2)+(int2/2)\n",
        "soma2 <- (int1*3)+real\n",
        "cubo <- real^3\n",
        "print(paste('A soma do dobro do primeiro com metade do segundo é: ', soma1))\n",
        "print(paste('A soma do triplo do primeiro com o terceiro é: ', soma2))\n",
        "print(paste('O terceiro elevado ao cubo é: ',format(round(cubo, 2), nsmall = 2)))"
      ],
      "execution_count": 32,
      "outputs": [
        {
          "output_type": "stream",
          "name": "stdout",
          "text": [
            "Digite um número inteiro: 4\n",
            "Digite outro número inteiro: 8\n",
            "Digite um número real: 1.9\n",
            "[1] \"A soma do dobro do primeiro com metade do segundo é:  12\"\n",
            "[1] \"A soma do triplo do primeiro com o terceiro é:  13.9\"\n",
            "[1] \"O terceiro elevado ao cubo é:  6.86\"\n"
          ]
        }
      ]
    }
  ]
}