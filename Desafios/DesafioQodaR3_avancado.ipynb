{
  "nbformat": 4,
  "nbformat_minor": 0,
  "metadata": {
    "colab": {
      "name": "DesafioQodaR3_avancado.ipynb",
      "provenance": []
    },
    "kernelspec": {
      "name": "ir",
      "display_name": "R"
    }
  },
  "cells": [
    {
      "cell_type": "markdown",
      "metadata": {
        "id": "Z2Kl9pfj0JKM"
      },
      "source": [
        "# Desafio Qoda Data Science - R Fase 3\n",
        "# Aluno: Rodrigo da Costa Aglinskas\n",
        "# Data: 19/11/2021"
      ]
    },
    {
      "cell_type": "markdown",
      "metadata": {
        "id": "Y7enDOmAEdmo"
      },
      "source": [
        "## Utilize apenas funções e pacotes R para os desafios abaixo\n",
        "#### Skills principais trabalhadas: tolerância a frustração, pesquisa, auto-didatismo, compreensão de texto, lógica de programação e leitura de documentação(pacotes)."
      ]
    },
    {
      "cell_type": "markdown",
      "metadata": {
        "id": "j9ZuOU7Kyh9O"
      },
      "source": [
        "Faça a leitura de um dataset(conjunto de dados) do Rbase e mostre as primeiras linhas deste dataset"
      ]
    },
    {
      "cell_type": "code",
      "metadata": {
        "colab": {
          "base_uri": "https://localhost:8080/"
        },
        "id": "k6U2MAwnI0VV",
        "outputId": "b7cc15e9-fb8b-4d9e-d545-c2bddcb6316f"
      },
      "source": [
        "install.packages(\"ggplot2\", dependencies=TRUE)\n",
        "library(ggplot2)"
      ],
      "execution_count": 4,
      "outputs": [
        {
          "output_type": "stream",
          "name": "stderr",
          "text": [
            "Installing package into ‘/usr/local/lib/R/site-library’\n",
            "(as ‘lib’ is unspecified)\n",
            "\n",
            "also installing the dependencies ‘listenv’, ‘parallelly’, ‘future’, ‘globals’, ‘future.apply’, ‘progressr’, ‘numDeriv’, ‘SQUAREM’, ‘lava’, ‘prodlim’, ‘iterators’, ‘gower’, ‘ipred’, ‘timeDate’, ‘foreach’, ‘ModelMetrics’, ‘plyr’, ‘pROC’, ‘recipes’, ‘reshape2’, ‘proxy’, ‘lazyeval’, ‘png’, ‘jpeg’, ‘checkmate’, ‘zoo’, ‘matrixStats’, ‘caret’, ‘RcppArmadillo’, ‘e1071’, ‘wk’, ‘rex’, ‘textshaping’, ‘Formula’, ‘latticeExtra’, ‘gridExtra’, ‘htmlTable’, ‘viridis’, ‘deldir’, ‘RcppEigen’, ‘sp’, ‘mvtnorm’, ‘TH.data’, ‘sandwich’, ‘htmlwidgets’, ‘SparseM’, ‘MatrixModels’, ‘conquer’, ‘classInt’, ‘s2’, ‘units’, ‘covr’, ‘ragg’, ‘ggplot2movies’, ‘hexbin’, ‘Hmisc’, ‘interp’, ‘mapproj’, ‘maps’, ‘maptools’, ‘multcomp’, ‘profvis’, ‘quantreg’, ‘rgeos’, ‘sf’, ‘vdiffr’\n",
            "\n",
            "\n",
            "Warning message in install.packages(\"ggplot2\", dependencies = TRUE):\n",
            "“installation of package ‘textshaping’ had non-zero exit status”\n",
            "Warning message in install.packages(\"ggplot2\", dependencies = TRUE):\n",
            "“installation of package ‘units’ had non-zero exit status”\n",
            "Warning message in install.packages(\"ggplot2\", dependencies = TRUE):\n",
            "“installation of package ‘ragg’ had non-zero exit status”\n",
            "Warning message in install.packages(\"ggplot2\", dependencies = TRUE):\n",
            "“installation of package ‘sf’ had non-zero exit status”\n"
          ]
        }
      ]
    },
    {
      "cell_type": "code",
      "metadata": {
        "colab": {
          "base_uri": "https://localhost:8080/"
        },
        "id": "0unzRrFOI92a",
        "outputId": "dbdb9631-5e37-4ee2-9bd4-56d1b7841da8"
      },
      "source": [
        "install.packages(\"tidyverse\") \n",
        "library(tidyverse)"
      ],
      "execution_count": 5,
      "outputs": [
        {
          "output_type": "stream",
          "name": "stderr",
          "text": [
            "Installing package into ‘/usr/local/lib/R/site-library’\n",
            "(as ‘lib’ is unspecified)\n",
            "\n",
            "Warning message in system(\"timedatectl\", intern = TRUE):\n",
            "“running command 'timedatectl' had status 1”\n",
            "── \u001b[1mAttaching packages\u001b[22m ─────────────────────────────────────── tidyverse 1.3.1 ──\n",
            "\n",
            "\u001b[32m✔\u001b[39m \u001b[34mtibble \u001b[39m 3.1.5     \u001b[32m✔\u001b[39m \u001b[34mdplyr  \u001b[39m 1.0.7\n",
            "\u001b[32m✔\u001b[39m \u001b[34mtidyr  \u001b[39m 1.1.4     \u001b[32m✔\u001b[39m \u001b[34mstringr\u001b[39m 1.4.0\n",
            "\u001b[32m✔\u001b[39m \u001b[34mreadr  \u001b[39m 2.0.2     \u001b[32m✔\u001b[39m \u001b[34mforcats\u001b[39m 0.5.1\n",
            "\u001b[32m✔\u001b[39m \u001b[34mpurrr  \u001b[39m 0.3.4     \n",
            "\n",
            "── \u001b[1mConflicts\u001b[22m ────────────────────────────────────────── tidyverse_conflicts() ──\n",
            "\u001b[31m✖\u001b[39m \u001b[34mdplyr\u001b[39m::\u001b[32mfilter()\u001b[39m masks \u001b[34mstats\u001b[39m::filter()\n",
            "\u001b[31m✖\u001b[39m \u001b[34mdplyr\u001b[39m::\u001b[32mlag()\u001b[39m    masks \u001b[34mstats\u001b[39m::lag()\n",
            "\n"
          ]
        }
      ]
    },
    {
      "cell_type": "code",
      "metadata": {
        "id": "tlFupLd-ydTB",
        "colab": {
          "base_uri": "https://localhost:8080/",
          "height": 285
        },
        "outputId": "e6600b61-b3af-48ec-92e3-30eedf1bb90e"
      },
      "source": [
        "head(economics)"
      ],
      "execution_count": 9,
      "outputs": [
        {
          "output_type": "display_data",
          "data": {
            "text/plain": [
              "  date       pce   pop    psavert uempmed unemploy\n",
              "1 1967-07-01 506.7 198712 12.6    4.5     2944    \n",
              "2 1967-08-01 509.8 198911 12.6    4.7     2945    \n",
              "3 1967-09-01 515.6 199113 11.9    4.6     2958    \n",
              "4 1967-10-01 512.2 199311 12.9    4.9     3143    \n",
              "5 1967-11-01 517.4 199498 12.8    4.7     3066    \n",
              "6 1967-12-01 525.1 199657 11.8    4.8     3018    "
            ],
            "text/latex": "A tibble: 6 × 6\n\\begin{tabular}{llllll}\n date & pce & pop & psavert & uempmed & unemploy\\\\\n <date> & <dbl> & <dbl> & <dbl> & <dbl> & <dbl>\\\\\n\\hline\n\t 1967-07-01 & 506.7 & 198712 & 12.6 & 4.5 & 2944\\\\\n\t 1967-08-01 & 509.8 & 198911 & 12.6 & 4.7 & 2945\\\\\n\t 1967-09-01 & 515.6 & 199113 & 11.9 & 4.6 & 2958\\\\\n\t 1967-10-01 & 512.2 & 199311 & 12.9 & 4.9 & 3143\\\\\n\t 1967-11-01 & 517.4 & 199498 & 12.8 & 4.7 & 3066\\\\\n\t 1967-12-01 & 525.1 & 199657 & 11.8 & 4.8 & 3018\\\\\n\\end{tabular}\n",
            "text/markdown": "\nA tibble: 6 × 6\n\n| date &lt;date&gt; | pce &lt;dbl&gt; | pop &lt;dbl&gt; | psavert &lt;dbl&gt; | uempmed &lt;dbl&gt; | unemploy &lt;dbl&gt; |\n|---|---|---|---|---|---|\n| 1967-07-01 | 506.7 | 198712 | 12.6 | 4.5 | 2944 |\n| 1967-08-01 | 509.8 | 198911 | 12.6 | 4.7 | 2945 |\n| 1967-09-01 | 515.6 | 199113 | 11.9 | 4.6 | 2958 |\n| 1967-10-01 | 512.2 | 199311 | 12.9 | 4.9 | 3143 |\n| 1967-11-01 | 517.4 | 199498 | 12.8 | 4.7 | 3066 |\n| 1967-12-01 | 525.1 | 199657 | 11.8 | 4.8 | 3018 |\n\n",
            "text/html": [
              "<table class=\"dataframe\">\n",
              "<caption>A tibble: 6 × 6</caption>\n",
              "<thead>\n",
              "\t<tr><th scope=col>date</th><th scope=col>pce</th><th scope=col>pop</th><th scope=col>psavert</th><th scope=col>uempmed</th><th scope=col>unemploy</th></tr>\n",
              "\t<tr><th scope=col>&lt;date&gt;</th><th scope=col>&lt;dbl&gt;</th><th scope=col>&lt;dbl&gt;</th><th scope=col>&lt;dbl&gt;</th><th scope=col>&lt;dbl&gt;</th><th scope=col>&lt;dbl&gt;</th></tr>\n",
              "</thead>\n",
              "<tbody>\n",
              "\t<tr><td>1967-07-01</td><td>506.7</td><td>198712</td><td>12.6</td><td>4.5</td><td>2944</td></tr>\n",
              "\t<tr><td>1967-08-01</td><td>509.8</td><td>198911</td><td>12.6</td><td>4.7</td><td>2945</td></tr>\n",
              "\t<tr><td>1967-09-01</td><td>515.6</td><td>199113</td><td>11.9</td><td>4.6</td><td>2958</td></tr>\n",
              "\t<tr><td>1967-10-01</td><td>512.2</td><td>199311</td><td>12.9</td><td>4.9</td><td>3143</td></tr>\n",
              "\t<tr><td>1967-11-01</td><td>517.4</td><td>199498</td><td>12.8</td><td>4.7</td><td>3066</td></tr>\n",
              "\t<tr><td>1967-12-01</td><td>525.1</td><td>199657</td><td>11.8</td><td>4.8</td><td>3018</td></tr>\n",
              "</tbody>\n",
              "</table>\n"
            ]
          },
          "metadata": {}
        }
      ]
    },
    {
      "cell_type": "markdown",
      "metadata": {
        "id": "3Yr1zAKdFRy-"
      },
      "source": [
        "Faça a leitura de um dataset(conjunto de dados) do Rbase e mostre as últimas linhas deste dataset"
      ]
    },
    {
      "cell_type": "code",
      "metadata": {
        "id": "hkJTCQmKFVfE",
        "colab": {
          "base_uri": "https://localhost:8080/",
          "height": 285
        },
        "outputId": "ce9bb8e8-69f9-44d0-f433-92ffd5cd330a"
      },
      "source": [
        "tail(economics)"
      ],
      "execution_count": 10,
      "outputs": [
        {
          "output_type": "display_data",
          "data": {
            "text/plain": [
              "  date       pce     pop      psavert uempmed unemploy\n",
              "1 2014-11-01 12051.4 319564.2 7.3     13.0    9090    \n",
              "2 2014-12-01 12062.0 319746.2 7.6     12.9    8717    \n",
              "3 2015-01-01 12046.0 319928.6 7.7     13.2    8903    \n",
              "4 2015-02-01 12082.4 320074.5 7.9     12.9    8610    \n",
              "5 2015-03-01 12158.3 320230.8 7.4     12.0    8504    \n",
              "6 2015-04-01 12193.8 320402.3 7.6     11.5    8526    "
            ],
            "text/latex": "A tibble: 6 × 6\n\\begin{tabular}{llllll}\n date & pce & pop & psavert & uempmed & unemploy\\\\\n <date> & <dbl> & <dbl> & <dbl> & <dbl> & <dbl>\\\\\n\\hline\n\t 2014-11-01 & 12051.4 & 319564.2 & 7.3 & 13.0 & 9090\\\\\n\t 2014-12-01 & 12062.0 & 319746.2 & 7.6 & 12.9 & 8717\\\\\n\t 2015-01-01 & 12046.0 & 319928.6 & 7.7 & 13.2 & 8903\\\\\n\t 2015-02-01 & 12082.4 & 320074.5 & 7.9 & 12.9 & 8610\\\\\n\t 2015-03-01 & 12158.3 & 320230.8 & 7.4 & 12.0 & 8504\\\\\n\t 2015-04-01 & 12193.8 & 320402.3 & 7.6 & 11.5 & 8526\\\\\n\\end{tabular}\n",
            "text/markdown": "\nA tibble: 6 × 6\n\n| date &lt;date&gt; | pce &lt;dbl&gt; | pop &lt;dbl&gt; | psavert &lt;dbl&gt; | uempmed &lt;dbl&gt; | unemploy &lt;dbl&gt; |\n|---|---|---|---|---|---|\n| 2014-11-01 | 12051.4 | 319564.2 | 7.3 | 13.0 | 9090 |\n| 2014-12-01 | 12062.0 | 319746.2 | 7.6 | 12.9 | 8717 |\n| 2015-01-01 | 12046.0 | 319928.6 | 7.7 | 13.2 | 8903 |\n| 2015-02-01 | 12082.4 | 320074.5 | 7.9 | 12.9 | 8610 |\n| 2015-03-01 | 12158.3 | 320230.8 | 7.4 | 12.0 | 8504 |\n| 2015-04-01 | 12193.8 | 320402.3 | 7.6 | 11.5 | 8526 |\n\n",
            "text/html": [
              "<table class=\"dataframe\">\n",
              "<caption>A tibble: 6 × 6</caption>\n",
              "<thead>\n",
              "\t<tr><th scope=col>date</th><th scope=col>pce</th><th scope=col>pop</th><th scope=col>psavert</th><th scope=col>uempmed</th><th scope=col>unemploy</th></tr>\n",
              "\t<tr><th scope=col>&lt;date&gt;</th><th scope=col>&lt;dbl&gt;</th><th scope=col>&lt;dbl&gt;</th><th scope=col>&lt;dbl&gt;</th><th scope=col>&lt;dbl&gt;</th><th scope=col>&lt;dbl&gt;</th></tr>\n",
              "</thead>\n",
              "<tbody>\n",
              "\t<tr><td>2014-11-01</td><td>12051.4</td><td>319564.2</td><td>7.3</td><td>13.0</td><td>9090</td></tr>\n",
              "\t<tr><td>2014-12-01</td><td>12062.0</td><td>319746.2</td><td>7.6</td><td>12.9</td><td>8717</td></tr>\n",
              "\t<tr><td>2015-01-01</td><td>12046.0</td><td>319928.6</td><td>7.7</td><td>13.2</td><td>8903</td></tr>\n",
              "\t<tr><td>2015-02-01</td><td>12082.4</td><td>320074.5</td><td>7.9</td><td>12.9</td><td>8610</td></tr>\n",
              "\t<tr><td>2015-03-01</td><td>12158.3</td><td>320230.8</td><td>7.4</td><td>12.0</td><td>8504</td></tr>\n",
              "\t<tr><td>2015-04-01</td><td>12193.8</td><td>320402.3</td><td>7.6</td><td>11.5</td><td>8526</td></tr>\n",
              "</tbody>\n",
              "</table>\n"
            ]
          },
          "metadata": {}
        }
      ]
    },
    {
      "cell_type": "markdown",
      "metadata": {
        "id": "3MY8QLnuFVoX"
      },
      "source": [
        "Utilizando uma função Rbase, abra um dataset contido em sua própria máquina."
      ]
    },
    {
      "cell_type": "code",
      "metadata": {
        "colab": {
          "base_uri": "https://localhost:8080/"
        },
        "id": "IYE1IGDsWuw0",
        "outputId": "b29990d8-205f-4405-a30d-9ffa59d74950"
      },
      "source": [
        "install.packages(\"rjson\")"
      ],
      "execution_count": 17,
      "outputs": [
        {
          "output_type": "stream",
          "name": "stderr",
          "text": [
            "Installing package into ‘/usr/local/lib/R/site-library’\n",
            "(as ‘lib’ is unspecified)\n",
            "\n"
          ]
        }
      ]
    },
    {
      "cell_type": "code",
      "metadata": {
        "colab": {
          "base_uri": "https://localhost:8080/"
        },
        "id": "-9QqTFOSW2dg",
        "outputId": "979234ab-3bee-4e4f-e6d8-bec2e22f1c2a"
      },
      "source": [
        "library(\"rjson\")\n",
        "json_file <- \"https://raw.githubusercontent.com/rodglins/Web_crawler/master/magazineluiza_Scrapy/magalu.json\"\n",
        "json_data <- fromJSON(paste(readLines(json_file), collapse=\"\"))"
      ],
      "execution_count": 18,
      "outputs": [
        {
          "output_type": "stream",
          "name": "stderr",
          "text": [
            "\n",
            "Attaching package: ‘rjson’\n",
            "\n",
            "\n",
            "The following objects are masked from ‘package:jsonlite’:\n",
            "\n",
            "    fromJSON, toJSON\n",
            "\n",
            "\n",
            "Warning message in readLines(json_file):\n",
            "“incomplete final line found on 'https://raw.githubusercontent.com/rodglins/Web_crawler/master/magazineluiza_Scrapy/magalu.json'”\n"
          ]
        }
      ]
    },
    {
      "cell_type": "code",
      "metadata": {
        "colab": {
          "base_uri": "https://localhost:8080/",
          "height": 529
        },
        "id": "RUq50YiIXIaO",
        "outputId": "e75058e6-9b4c-49fc-a212-128f1eeef3d6"
      },
      "source": [
        "head(json_data)"
      ],
      "execution_count": 20,
      "outputs": [
        {
          "output_type": "display_data",
          "data": {
            "text/plain": [
              "[[1]]\n",
              "[[1]]$price\n",
              "[1] \"R$ 4,891.70\"\n",
              "\n",
              "[[1]]$title\n",
              "[1] \"Notebook Lenovo Ideapad S145-15API, Processador AMD Ryzen 3-3200U 8GB DDR4 SSD 256Gb Windows 10\"\n",
              "\n",
              "\n",
              "[[2]]\n",
              "[[2]]$price\n",
              "[1] \"R$ 8,789.99\"\n",
              "\n",
              "[[2]]$title\n",
              "[1] \"Notebook Dell i15-3501 - Intel i7 1165G7, RAM 16GB, SSD 1TB, GeForce MX330, Windows 10 - Preto\"\n",
              "\n",
              "\n",
              "[[3]]\n",
              "[[3]]$price\n",
              "[1] \"R$ 5,654.44\"\n",
              "\n",
              "[[3]]$title\n",
              "[1] \"Notebook ASUS VivoBook X513EP-EJ232 Intel Core I7 1165G7, NVIDIA GeForce MX330, 8GB RAM, 256GB SSD, Endless OS, Preto - 90NB0SJ4-M04370\"\n",
              "\n",
              "\n",
              "[[4]]\n",
              "[[4]]$price\n",
              "[1] \"R$ 1,649.00\"\n",
              "\n",
              "[[4]]$title\n",
              "[1] \"Notebook Multilaser Legacy Book Pentium Quadcore Full HD 4gb RAM 64gb 14\\\" Windows 10\"\n",
              "\n",
              "\n",
              "[[5]]\n",
              "[[5]]$price\n",
              "[1] \"R$ 16,629.00\"\n",
              "\n",
              "[[5]]$title\n",
              "[1] \"Notebook Dell Alienware m15 R6 AW15-i1100-M30M 15.6\\\" FHD 11ª Intel Core i7 16GB 1TBSSD RTX 3070 Win11 + Monitor AW2521HF\"\n",
              "\n",
              "\n",
              "[[6]]\n",
              "[[6]]$price\n",
              "[1] \"R$ 3,999.00\"\n",
              "\n",
              "[[6]]$title\n",
              "[1] \"Notebook Acer I5 8GB 256GB SSD Tela Full HD 15.6” Windows 10\"\n",
              "\n"
            ],
            "text/latex": "\\begin{enumerate}\n\\item \\begin{description}\n\\item[\\$price] 'R\\$ 4,891.70'\n\\item[\\$title] 'Notebook Lenovo Ideapad S145-15API, Processador AMD Ryzen 3-3200U 8GB DDR4 SSD 256Gb Windows 10'\n\\end{description}\n\n\\item \\begin{description}\n\\item[\\$price] 'R\\$ 8,789.99'\n\\item[\\$title] 'Notebook Dell i15-3501 - Intel i7 1165G7, RAM 16GB, SSD 1TB, GeForce MX330, Windows 10 - Preto'\n\\end{description}\n\n\\item \\begin{description}\n\\item[\\$price] 'R\\$ 5,654.44'\n\\item[\\$title] 'Notebook ASUS VivoBook X513EP-EJ232 Intel Core I7 1165G7, NVIDIA GeForce MX330, 8GB RAM, 256GB SSD, Endless OS, Preto - 90NB0SJ4-M04370'\n\\end{description}\n\n\\item \\begin{description}\n\\item[\\$price] 'R\\$ 1,649.00'\n\\item[\\$title] 'Notebook Multilaser Legacy Book Pentium Quadcore Full HD 4gb RAM 64gb 14\" Windows 10'\n\\end{description}\n\n\\item \\begin{description}\n\\item[\\$price] 'R\\$ 16,629.00'\n\\item[\\$title] 'Notebook Dell Alienware m15 R6 AW15-i1100-M30M 15.6\" FHD 11ª Intel Core i7 16GB 1TBSSD RTX 3070 Win11 + Monitor AW2521HF'\n\\end{description}\n\n\\item \\begin{description}\n\\item[\\$price] 'R\\$ 3,999.00'\n\\item[\\$title] 'Notebook Acer I5 8GB 256GB SSD Tela Full HD 15.6” Windows 10'\n\\end{description}\n\n\\end{enumerate}\n",
            "text/markdown": "1. $price\n:   'R$ 4,891.70'\n$title\n:   'Notebook Lenovo Ideapad S145-15API, Processador AMD Ryzen 3-3200U 8GB DDR4 SSD 256Gb Windows 10'\n\n\n\n2. $price\n:   'R$ 8,789.99'\n$title\n:   'Notebook Dell i15-3501 - Intel i7 1165G7, RAM 16GB, SSD 1TB, GeForce MX330, Windows 10 - Preto'\n\n\n\n3. $price\n:   'R$ 5,654.44'\n$title\n:   'Notebook ASUS VivoBook X513EP-EJ232 Intel Core I7 1165G7, NVIDIA GeForce MX330, 8GB RAM, 256GB SSD, Endless OS, Preto - 90NB0SJ4-M04370'\n\n\n\n4. $price\n:   'R$ 1,649.00'\n$title\n:   'Notebook Multilaser Legacy Book Pentium Quadcore Full HD 4gb RAM 64gb 14\" Windows 10'\n\n\n\n5. $price\n:   'R$ 16,629.00'\n$title\n:   'Notebook Dell Alienware m15 R6 AW15-i1100-M30M 15.6\" FHD 11ª Intel Core i7 16GB 1TBSSD RTX 3070 Win11 + Monitor AW2521HF'\n\n\n\n6. $price\n:   'R$ 3,999.00'\n$title\n:   'Notebook Acer I5 8GB 256GB SSD Tela Full HD 15.6” Windows 10'\n\n\n\n\n\n",
            "text/html": [
              "<ol>\n",
              "\t<li><dl>\n",
              "\t<dt>$price</dt>\n",
              "\t\t<dd>'R$ 4,891.70'</dd>\n",
              "\t<dt>$title</dt>\n",
              "\t\t<dd>'Notebook Lenovo Ideapad S145-15API, Processador AMD Ryzen 3-3200U 8GB DDR4 SSD 256Gb Windows 10'</dd>\n",
              "</dl>\n",
              "</li>\n",
              "\t<li><dl>\n",
              "\t<dt>$price</dt>\n",
              "\t\t<dd>'R$ 8,789.99'</dd>\n",
              "\t<dt>$title</dt>\n",
              "\t\t<dd>'Notebook Dell i15-3501 - Intel i7 1165G7, RAM 16GB, SSD 1TB, GeForce MX330, Windows 10 - Preto'</dd>\n",
              "</dl>\n",
              "</li>\n",
              "\t<li><dl>\n",
              "\t<dt>$price</dt>\n",
              "\t\t<dd>'R$ 5,654.44'</dd>\n",
              "\t<dt>$title</dt>\n",
              "\t\t<dd>'Notebook ASUS VivoBook X513EP-EJ232 Intel Core I7 1165G7, NVIDIA GeForce MX330, 8GB RAM, 256GB SSD, Endless OS, Preto - 90NB0SJ4-M04370'</dd>\n",
              "</dl>\n",
              "</li>\n",
              "\t<li><dl>\n",
              "\t<dt>$price</dt>\n",
              "\t\t<dd>'R$ 1,649.00'</dd>\n",
              "\t<dt>$title</dt>\n",
              "\t\t<dd>'Notebook Multilaser Legacy Book Pentium Quadcore Full HD 4gb RAM 64gb 14\" Windows 10'</dd>\n",
              "</dl>\n",
              "</li>\n",
              "\t<li><dl>\n",
              "\t<dt>$price</dt>\n",
              "\t\t<dd>'R$ 16,629.00'</dd>\n",
              "\t<dt>$title</dt>\n",
              "\t\t<dd>'Notebook Dell Alienware m15 R6 AW15-i1100-M30M 15.6\" FHD 11ª Intel Core i7 16GB 1TBSSD RTX 3070 Win11 + Monitor AW2521HF'</dd>\n",
              "</dl>\n",
              "</li>\n",
              "\t<li><dl>\n",
              "\t<dt>$price</dt>\n",
              "\t\t<dd>'R$ 3,999.00'</dd>\n",
              "\t<dt>$title</dt>\n",
              "\t\t<dd>'Notebook Acer I5 8GB 256GB SSD Tela Full HD 15.6” Windows 10'</dd>\n",
              "</dl>\n",
              "</li>\n",
              "</ol>\n"
            ]
          },
          "metadata": {}
        }
      ]
    },
    {
      "cell_type": "markdown",
      "metadata": {
        "id": "6xyDmufwFgtS"
      },
      "source": [
        "Crie uma função que recebe 2 parâmetros e retorna o maior valor destes."
      ]
    },
    {
      "cell_type": "code",
      "metadata": {
        "id": "X6k1tzNWFxMM",
        "colab": {
          "base_uri": "https://localhost:8080/"
        },
        "outputId": "63fc5c1d-3501-4c7a-aeac-a65e80bc65c1"
      },
      "source": [
        "maiorValor <- function(num, num2) {\n",
        "  num <- as.integer(readline(prompt=\"Digite o número: \"))\n",
        "  num2 <- as.integer(readline(prompt=\"Agora digite outro número: \"))\n",
        "  if (num > num2){\n",
        "    print(num)\n",
        "  } else{\n",
        "    print(num2)\n",
        "  }\n",
        "}\n",
        "maiorValor()"
      ],
      "execution_count": 21,
      "outputs": [
        {
          "output_type": "stream",
          "name": "stdout",
          "text": [
            "Digite o número: 3\n",
            "Agora digite outro número: 8\n",
            "[1] 8\n"
          ]
        }
      ]
    },
    {
      "cell_type": "markdown",
      "metadata": {
        "id": "NWlYA5_sFx5w"
      },
      "source": [
        "Crie ou abra um dataset e na sequência, faça plotagem das features em um gráfico de barras."
      ]
    },
    {
      "cell_type": "code",
      "metadata": {
        "id": "HMr2U0I8F-zM",
        "colab": {
          "base_uri": "https://localhost:8080/",
          "height": 437
        },
        "outputId": "6b64336c-ebf3-4582-a303-6ed119d49709"
      },
      "source": [
        "ggplot(data = economics, aes(x = psavert)) +\n",
        "  geom_bar()"
      ],
      "execution_count": 34,
      "outputs": [
        {
          "output_type": "display_data",
          "data": {
            "image/png": "[encoded data removed]",
            "text/plain": [
              "plot without title"
            ]
          },
          "metadata": {
            "image/png": {
              "width": 420,
              "height": 420
            }
          }
        }
      ]
    },
    {
      "cell_type": "code",
      "metadata": {
        "colab": {
          "base_uri": "https://localhost:8080/",
          "height": 437
        },
        "id": "PE753Bv5ZueG",
        "outputId": "d47a9522-a92f-4cf4-daa7-c80b19cd1b02"
      },
      "source": [
        "ggplot(data = economics, aes(x = date, y = psavert)) + geom_line()"
      ],
      "execution_count": 29,
      "outputs": [
        {
          "output_type": "display_data",
          "data": {
            "image/png": "[encoded data removed]",
            "text/plain": [
              "plot without title"
            ]
          },
          "metadata": {
            "image/png": {
              "width": 420,
              "height": 420
            }
          }
        }
      ]
    },
    {
      "cell_type": "markdown",
      "metadata": {
        "id": "3ua79PyZGTOB"
      },
      "source": [
        "Com o dataset abaixo carregado, realize os exercícios seguintes:"
      ]
    },
    {
      "cell_type": "code",
      "metadata": {
        "id": "s3xbysLTGS7S"
      },
      "source": [
        "enderecos <- c(\"Rua Marcelino 851, São Paulo\", \"Avenida Voluntários da Pátria 367, Curitiba\", \"Rua do corcovado 198, Rio de janeiro\")\n",
        "produtos <- c(\"TV\", \"notebooks\", \"GPU\", \"mouses\", \"Teclado\")\n",
        "sentencas <- stringr::sentences[1:10]\n",
        "campos <- c(\"order_number\", \"order_date\", \"customer_email\", \"product_title\", \"amount\")\n",
        "skills <- c(\"João Silva (jr)\", \"Rita Cadillac (senior)\", \"Chris Brown (senior)\", \"Sara Sarali (pleno)\")"
      ],
      "execution_count": 35,
      "outputs": []
    },
    {
      "cell_type": "markdown",
      "metadata": {
        "id": "oIARcRAyHn2N"
      },
      "source": [
        "Normalize o vetor de endereços substituindo letras maiúsculas por minúsculas."
      ]
    },
    {
      "cell_type": "code",
      "metadata": {
        "id": "Yc8su-u8a2Ta"
      },
      "source": [
        "library(stringr)"
      ],
      "execution_count": 36,
      "outputs": []
    },
    {
      "cell_type": "code",
      "metadata": {
        "id": "TS6qkcK-HqRx",
        "colab": {
          "base_uri": "https://localhost:8080/",
          "height": 35
        },
        "outputId": "852e9a91-6021-4338-e668-de9d6e8fb576"
      },
      "source": [
        "str_to_lower(enderecos)"
      ],
      "execution_count": 38,
      "outputs": [
        {
          "output_type": "display_data",
          "data": {
            "text/plain": [
              "[1] \"rua marcelino 851, são paulo\"               \n",
              "[2] \"avenida voluntários da pátria 367, curitiba\"\n",
              "[3] \"rua do corcovado 198, rio de janeiro\"       "
            ],
            "text/latex": "\\begin{enumerate*}\n\\item 'rua marcelino 851, são paulo'\n\\item 'avenida voluntários da pátria 367, curitiba'\n\\item 'rua do corcovado 198, rio de janeiro'\n\\end{enumerate*}\n",
            "text/markdown": "1. 'rua marcelino 851, são paulo'\n2. 'avenida voluntários da pátria 367, curitiba'\n3. 'rua do corcovado 198, rio de janeiro'\n\n\n",
            "text/html": [
              "<style>\n",
              ".list-inline {list-style: none; margin:0; padding: 0}\n",
              ".list-inline>li {display: inline-block}\n",
              ".list-inline>li:not(:last-child)::after {content: \"\\00b7\"; padding: 0 .5ex}\n",
              "</style>\n",
              "<ol class=list-inline><li>'rua marcelino 851, são paulo'</li><li>'avenida voluntários da pátria 367, curitiba'</li><li>'rua do corcovado 198, rio de janeiro'</li></ol>\n"
            ]
          },
          "metadata": {}
        }
      ]
    },
    {
      "cell_type": "markdown",
      "metadata": {
        "id": "EHmTOtNaHqfc"
      },
      "source": [
        "Puxe apenas a parte numérica do vetor de endereços."
      ]
    },
    {
      "cell_type": "code",
      "metadata": {
        "id": "1qQJ4NmMHtgM",
        "colab": {
          "base_uri": "https://localhost:8080/",
          "height": 96
        },
        "outputId": "7c674160-7ffb-4aa4-e318-87274f0cb034"
      },
      "source": [
        "m <- gregexpr('[0-9]+',enderecos)\n",
        "regmatches(enderecos,m)"
      ],
      "execution_count": 40,
      "outputs": [
        {
          "output_type": "display_data",
          "data": {
            "text/plain": [
              "[[1]]\n",
              "[1] \"851\"\n",
              "\n",
              "[[2]]\n",
              "[1] \"367\"\n",
              "\n",
              "[[3]]\n",
              "[1] \"198\"\n"
            ],
            "text/latex": "\\begin{enumerate}\n\\item '851'\n\\item '367'\n\\item '198'\n\\end{enumerate}\n",
            "text/markdown": "1. '851'\n2. '367'\n3. '198'\n\n\n",
            "text/html": [
              "<ol>\n",
              "\t<li>'851'</li>\n",
              "\t<li>'367'</li>\n",
              "\t<li>'198'</li>\n",
              "</ol>\n"
            ]
          },
          "metadata": {}
        }
      ]
    },
    {
      "cell_type": "markdown",
      "metadata": {
        "id": "pRY89c-dHyPC"
      },
      "source": [
        "Divida o vetor de endereços em duas partes: endereço e cidade. O resultado deve ser uma matriz."
      ]
    },
    {
      "cell_type": "code",
      "metadata": {
        "id": "e8MPIMUUHyXq",
        "colab": {
          "base_uri": "https://localhost:8080/"
        },
        "outputId": "7ab930bf-e422-47c2-e087-e3b28964f2c6"
      },
      "source": [
        "print(enderecos)"
      ],
      "execution_count": 42,
      "outputs": [
        {
          "output_type": "stream",
          "name": "stdout",
          "text": [
            "[1] \"Rua Marcelino 851, São Paulo\"               \n",
            "[2] \"Avenida Voluntários da Pátria 367, Curitiba\"\n",
            "[3] \"Rua do corcovado 198, Rio de janeiro\"       \n"
          ]
        }
      ]
    },
    {
      "cell_type": "code",
      "metadata": {
        "id": "JWJf7xxukCcQ"
      },
      "source": [
        "enderecos <- tibble(enderecos)\n",
        "z = gather(enderecos, \"variavel\", \"valor\")"
      ],
      "execution_count": 43,
      "outputs": []
    },
    {
      "cell_type": "code",
      "metadata": {
        "colab": {
          "base_uri": "https://localhost:8080/",
          "height": 192
        },
        "id": "gEB446ynkW92",
        "outputId": "1919f479-73eb-4512-c4b6-08366595a29e"
      },
      "source": [
        "z"
      ],
      "execution_count": 44,
      "outputs": [
        {
          "output_type": "display_data",
          "data": {
            "text/plain": [
              "  variavel  valor                                      \n",
              "1 enderecos Rua Marcelino 851, São Paulo               \n",
              "2 enderecos Avenida Voluntários da Pátria 367, Curitiba\n",
              "3 enderecos Rua do corcovado 198, Rio de janeiro       "
            ],
            "text/latex": "A tibble: 3 × 2\n\\begin{tabular}{ll}\n variavel & valor\\\\\n <chr> & <chr>\\\\\n\\hline\n\t enderecos & Rua Marcelino 851, São Paulo               \\\\\n\t enderecos & Avenida Voluntários da Pátria 367, Curitiba\\\\\n\t enderecos & Rua do corcovado 198, Rio de janeiro       \\\\\n\\end{tabular}\n",
            "text/markdown": "\nA tibble: 3 × 2\n\n| variavel &lt;chr&gt; | valor &lt;chr&gt; |\n|---|---|\n| enderecos | Rua Marcelino 851, São Paulo                |\n| enderecos | Avenida Voluntários da Pátria 367, Curitiba |\n| enderecos | Rua do corcovado 198, Rio de janeiro        |\n\n",
            "text/html": [
              "<table class=\"dataframe\">\n",
              "<caption>A tibble: 3 × 2</caption>\n",
              "<thead>\n",
              "\t<tr><th scope=col>variavel</th><th scope=col>valor</th></tr>\n",
              "\t<tr><th scope=col>&lt;chr&gt;</th><th scope=col>&lt;chr&gt;</th></tr>\n",
              "</thead>\n",
              "<tbody>\n",
              "\t<tr><td>enderecos</td><td>Rua Marcelino 851, São Paulo               </td></tr>\n",
              "\t<tr><td>enderecos</td><td>Avenida Voluntários da Pátria 367, Curitiba</td></tr>\n",
              "\t<tr><td>enderecos</td><td>Rua do corcovado 198, Rio de janeiro       </td></tr>\n",
              "</tbody>\n",
              "</table>\n"
            ]
          },
          "metadata": {}
        }
      ]
    },
    {
      "cell_type": "code",
      "metadata": {
        "colab": {
          "base_uri": "https://localhost:8080/",
          "height": 192
        },
        "id": "VaLFKkpUkbIF",
        "outputId": "5fe19068-a1b2-4780-8efc-786ae0f0e0b7"
      },
      "source": [
        "enderecos"
      ],
      "execution_count": 45,
      "outputs": [
        {
          "output_type": "display_data",
          "data": {
            "text/plain": [
              "  enderecos                                  \n",
              "1 Rua Marcelino 851, São Paulo               \n",
              "2 Avenida Voluntários da Pátria 367, Curitiba\n",
              "3 Rua do corcovado 198, Rio de janeiro       "
            ],
            "text/latex": "A tibble: 3 × 1\n\\begin{tabular}{l}\n enderecos\\\\\n <chr>\\\\\n\\hline\n\t Rua Marcelino 851, São Paulo               \\\\\n\t Avenida Voluntários da Pátria 367, Curitiba\\\\\n\t Rua do corcovado 198, Rio de janeiro       \\\\\n\\end{tabular}\n",
            "text/markdown": "\nA tibble: 3 × 1\n\n| enderecos &lt;chr&gt; |\n|---|\n| Rua Marcelino 851, São Paulo                |\n| Avenida Voluntários da Pátria 367, Curitiba |\n| Rua do corcovado 198, Rio de janeiro        |\n\n",
            "text/html": [
              "<table class=\"dataframe\">\n",
              "<caption>A tibble: 3 × 1</caption>\n",
              "<thead>\n",
              "\t<tr><th scope=col>enderecos</th></tr>\n",
              "\t<tr><th scope=col>&lt;chr&gt;</th></tr>\n",
              "</thead>\n",
              "<tbody>\n",
              "\t<tr><td>Rua Marcelino 851, São Paulo               </td></tr>\n",
              "\t<tr><td>Avenida Voluntários da Pátria 367, Curitiba</td></tr>\n",
              "\t<tr><td>Rua do corcovado 198, Rio de janeiro       </td></tr>\n",
              "</tbody>\n",
              "</table>\n"
            ]
          },
          "metadata": {}
        }
      ]
    },
    {
      "cell_type": "code",
      "metadata": {
        "id": "wx0PUSKEnw15"
      },
      "source": [
        "colunas <- paste0(\"sep\", 1:2)"
      ],
      "execution_count": 52,
      "outputs": []
    },
    {
      "cell_type": "code",
      "metadata": {
        "id": "z0psZPd5ogt_"
      },
      "source": [
        "library(stringr);\n",
        "colunas <- paste0(\"sep\", 1:(max(str_count(z$valor, ',')) + 1));"
      ],
      "execution_count": 54,
      "outputs": []
    },
    {
      "cell_type": "code",
      "metadata": {
        "colab": {
          "base_uri": "https://localhost:8080/",
          "height": 192
        },
        "id": "S0vT4mk5pJDq",
        "outputId": "32c18013-3f27-49c0-8070-0c6b955be696"
      },
      "source": [
        "library(tidyr);\n",
        "separate(z, valor, into = colunas, sep = ',', remove = FALSE,\n",
        "         extra = \"merge\");"
      ],
      "execution_count": 55,
      "outputs": [
        {
          "output_type": "display_data",
          "data": {
            "text/plain": [
              "  variavel  valor                                      \n",
              "1 enderecos Rua Marcelino 851, São Paulo               \n",
              "2 enderecos Avenida Voluntários da Pátria 367, Curitiba\n",
              "3 enderecos Rua do corcovado 198, Rio de janeiro       \n",
              "  sep1                              sep2           \n",
              "1 Rua Marcelino 851                  São Paulo     \n",
              "2 Avenida Voluntários da Pátria 367  Curitiba      \n",
              "3 Rua do corcovado 198               Rio de janeiro"
            ],
            "text/latex": "A tibble: 3 × 4\n\\begin{tabular}{llll}\n variavel & valor & sep1 & sep2\\\\\n <chr> & <chr> & <chr> & <chr>\\\\\n\\hline\n\t enderecos & Rua Marcelino 851, São Paulo                & Rua Marcelino 851                 &  São Paulo     \\\\\n\t enderecos & Avenida Voluntários da Pátria 367, Curitiba & Avenida Voluntários da Pátria 367 &  Curitiba      \\\\\n\t enderecos & Rua do corcovado 198, Rio de janeiro        & Rua do corcovado 198              &  Rio de janeiro\\\\\n\\end{tabular}\n",
            "text/markdown": "\nA tibble: 3 × 4\n\n| variavel &lt;chr&gt; | valor &lt;chr&gt; | sep1 &lt;chr&gt; | sep2 &lt;chr&gt; |\n|---|---|---|---|\n| enderecos | Rua Marcelino 851, São Paulo                | Rua Marcelino 851                 |  São Paulo      |\n| enderecos | Avenida Voluntários da Pátria 367, Curitiba | Avenida Voluntários da Pátria 367 |  Curitiba       |\n| enderecos | Rua do corcovado 198, Rio de janeiro        | Rua do corcovado 198              |  Rio de janeiro |\n\n",
            "text/html": [
              "<table class=\"dataframe\">\n",
              "<caption>A tibble: 3 × 4</caption>\n",
              "<thead>\n",
              "\t<tr><th scope=col>variavel</th><th scope=col>valor</th><th scope=col>sep1</th><th scope=col>sep2</th></tr>\n",
              "\t<tr><th scope=col>&lt;chr&gt;</th><th scope=col>&lt;chr&gt;</th><th scope=col>&lt;chr&gt;</th><th scope=col>&lt;chr&gt;</th></tr>\n",
              "</thead>\n",
              "<tbody>\n",
              "\t<tr><td>enderecos</td><td>Rua Marcelino 851, São Paulo               </td><td>Rua Marcelino 851                </td><td> São Paulo     </td></tr>\n",
              "\t<tr><td>enderecos</td><td>Avenida Voluntários da Pátria 367, Curitiba</td><td>Avenida Voluntários da Pátria 367</td><td> Curitiba      </td></tr>\n",
              "\t<tr><td>enderecos</td><td>Rua do corcovado 198, Rio de janeiro       </td><td>Rua do corcovado 198             </td><td> Rio de janeiro</td></tr>\n",
              "</tbody>\n",
              "</table>\n"
            ]
          },
          "metadata": {}
        }
      ]
    },
    {
      "cell_type": "markdown",
      "metadata": {
        "id": "1nNzBOBhIAo4"
      },
      "source": [
        "Normalize o vetor \"produtos\" removendo todos os espaços em branco desnecessários (início, meio e fim), capitalizando todas as letras."
      ]
    },
    {
      "cell_type": "code",
      "metadata": {
        "id": "jCLZSbriIXKh"
      },
      "source": [
        "produtos = str_to_title(produtos)"
      ],
      "execution_count": 78,
      "outputs": []
    },
    {
      "cell_type": "code",
      "metadata": {
        "id": "k7kngI0wt_3B"
      },
      "source": [
        "produtos <- data.frame(lapply(produtos, trimws), stringsAsFactors = FALSE)"
      ],
      "execution_count": 79,
      "outputs": []
    },
    {
      "cell_type": "code",
      "metadata": {
        "colab": {
          "base_uri": "https://localhost:8080/",
          "height": 129
        },
        "id": "d8kLjPkJuRVo",
        "outputId": "bf912ab5-359a-4e32-9289-a7e9cf33b6a4"
      },
      "source": [
        "produtos"
      ],
      "execution_count": 80,
      "outputs": [
        {
          "output_type": "display_data",
          "data": {
            "text/plain": [
              "  X.Tv. X.Notebooks. X.Gpu. X.Mouses. X.Teclado.\n",
              "1 Tv    Notebooks    Gpu    Mouses    Teclado   "
            ],
            "text/latex": "A data.frame: 1 × 5\n\\begin{tabular}{lllll}\n X.Tv. & X.Notebooks. & X.Gpu. & X.Mouses. & X.Teclado.\\\\\n <chr> & <chr> & <chr> & <chr> & <chr>\\\\\n\\hline\n\t Tv & Notebooks & Gpu & Mouses & Teclado\\\\\n\\end{tabular}\n",
            "text/markdown": "\nA data.frame: 1 × 5\n\n| X.Tv. &lt;chr&gt; | X.Notebooks. &lt;chr&gt; | X.Gpu. &lt;chr&gt; | X.Mouses. &lt;chr&gt; | X.Teclado. &lt;chr&gt; |\n|---|---|---|---|---|\n| Tv | Notebooks | Gpu | Mouses | Teclado |\n\n",
            "text/html": [
              "<table class=\"dataframe\">\n",
              "<caption>A data.frame: 1 × 5</caption>\n",
              "<thead>\n",
              "\t<tr><th scope=col>X.Tv.</th><th scope=col>X.Notebooks.</th><th scope=col>X.Gpu.</th><th scope=col>X.Mouses.</th><th scope=col>X.Teclado.</th></tr>\n",
              "\t<tr><th scope=col>&lt;chr&gt;</th><th scope=col>&lt;chr&gt;</th><th scope=col>&lt;chr&gt;</th><th scope=col>&lt;chr&gt;</th><th scope=col>&lt;chr&gt;</th></tr>\n",
              "</thead>\n",
              "<tbody>\n",
              "\t<tr><td>Tv</td><td>Notebooks</td><td>Gpu</td><td>Mouses</td><td>Teclado</td></tr>\n",
              "</tbody>\n",
              "</table>\n"
            ]
          },
          "metadata": {}
        }
      ]
    }
  ]
}